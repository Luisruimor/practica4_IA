{
 "cells": [
  {
   "cell_type": "code",
   "execution_count": 37,
   "metadata": {
    "collapsed": true
   },
   "outputs": [],
   "source": [
    "import pandas as pd\n",
    "import numpy as np\n",
    "from sklearn.experimental import enable_iterative_imputer\n",
    "from sklearn.impute import IterativeImputer\n",
    "from sklearn.linear_model import LinearRegression"
   ]
  },
  {
   "cell_type": "markdown",
   "metadata": {
    "collapsed": false
   },
   "source": [
    "## Cargamos Dataset y visualizamos las primeras 5 filas"
   ]
  },
  {
   "cell_type": "code",
   "execution_count": 38,
   "metadata": {
    "collapsed": false
   },
   "outputs": [
    {
     "name": "stdout",
     "output_type": "stream",
     "text": [
      "Dimensionalidad: (891, 12)\n"
     ]
    },
    {
     "data": {
      "text/plain": "   PassengerId  Survived  Pclass  \\\n0            1         0       3   \n1            2         1       1   \n2            3         1       3   \n3            4         1       1   \n4            5         0       3   \n\n                                                Name     Sex   Age  SibSp  \\\n0                            Braund, Mr. Owen Harris    male  22.0      1   \n1  Cumings, Mrs. John Bradley (Florence Briggs Th...  female  38.0      1   \n2                             Heikkinen, Miss. Laina  female  26.0      0   \n3       Futrelle, Mrs. Jacques Heath (Lily May Peel)  female  35.0      1   \n4                           Allen, Mr. William Henry    male  35.0      0   \n\n   Parch            Ticket     Fare Cabin Embarked  \n0      0         A/5 21171   7.2500   NaN        S  \n1      0          PC 17599  71.2833   C85        C  \n2      0  STON/O2. 3101282   7.9250   NaN        S  \n3      0            113803  53.1000  C123        S  \n4      0            373450   8.0500   NaN        S  ",
      "text/html": "<div>\n<style scoped>\n    .dataframe tbody tr th:only-of-type {\n        vertical-align: middle;\n    }\n\n    .dataframe tbody tr th {\n        vertical-align: top;\n    }\n\n    .dataframe thead th {\n        text-align: right;\n    }\n</style>\n<table border=\"1\" class=\"dataframe\">\n  <thead>\n    <tr style=\"text-align: right;\">\n      <th></th>\n      <th>PassengerId</th>\n      <th>Survived</th>\n      <th>Pclass</th>\n      <th>Name</th>\n      <th>Sex</th>\n      <th>Age</th>\n      <th>SibSp</th>\n      <th>Parch</th>\n      <th>Ticket</th>\n      <th>Fare</th>\n      <th>Cabin</th>\n      <th>Embarked</th>\n    </tr>\n  </thead>\n  <tbody>\n    <tr>\n      <th>0</th>\n      <td>1</td>\n      <td>0</td>\n      <td>3</td>\n      <td>Braund, Mr. Owen Harris</td>\n      <td>male</td>\n      <td>22.0</td>\n      <td>1</td>\n      <td>0</td>\n      <td>A/5 21171</td>\n      <td>7.2500</td>\n      <td>NaN</td>\n      <td>S</td>\n    </tr>\n    <tr>\n      <th>1</th>\n      <td>2</td>\n      <td>1</td>\n      <td>1</td>\n      <td>Cumings, Mrs. John Bradley (Florence Briggs Th...</td>\n      <td>female</td>\n      <td>38.0</td>\n      <td>1</td>\n      <td>0</td>\n      <td>PC 17599</td>\n      <td>71.2833</td>\n      <td>C85</td>\n      <td>C</td>\n    </tr>\n    <tr>\n      <th>2</th>\n      <td>3</td>\n      <td>1</td>\n      <td>3</td>\n      <td>Heikkinen, Miss. Laina</td>\n      <td>female</td>\n      <td>26.0</td>\n      <td>0</td>\n      <td>0</td>\n      <td>STON/O2. 3101282</td>\n      <td>7.9250</td>\n      <td>NaN</td>\n      <td>S</td>\n    </tr>\n    <tr>\n      <th>3</th>\n      <td>4</td>\n      <td>1</td>\n      <td>1</td>\n      <td>Futrelle, Mrs. Jacques Heath (Lily May Peel)</td>\n      <td>female</td>\n      <td>35.0</td>\n      <td>1</td>\n      <td>0</td>\n      <td>113803</td>\n      <td>53.1000</td>\n      <td>C123</td>\n      <td>S</td>\n    </tr>\n    <tr>\n      <th>4</th>\n      <td>5</td>\n      <td>0</td>\n      <td>3</td>\n      <td>Allen, Mr. William Henry</td>\n      <td>male</td>\n      <td>35.0</td>\n      <td>0</td>\n      <td>0</td>\n      <td>373450</td>\n      <td>8.0500</td>\n      <td>NaN</td>\n      <td>S</td>\n    </tr>\n  </tbody>\n</table>\n</div>"
     },
     "execution_count": 38,
     "metadata": {},
     "output_type": "execute_result"
    }
   ],
   "source": [
    "db = pd.read_csv(\"train.csv\")\n",
    "print(\"Dimensionalidad:\",db.shape)\n",
    "db.head()"
   ]
  },
  {
   "cell_type": "markdown",
   "metadata": {
    "collapsed": false
   },
   "source": [
    "## Tratamiento previo del Dataset\n"
   ]
  },
  {
   "cell_type": "code",
   "execution_count": 39,
   "metadata": {
    "collapsed": false
   },
   "outputs": [],
   "source": [
    "# Eliminar columna PassengerId\n",
    "db.drop(\"PassengerId\",axis=1,inplace=True)"
   ]
  },
  {
   "cell_type": "code",
   "execution_count": 40,
   "outputs": [
    {
     "name": "stdout",
     "output_type": "stream",
     "text": [
      "Duplicados en 'Name': 0.0 %\n"
     ]
    }
   ],
   "source": [
    "# calculamos % de duplicados en name\n",
    "print(\"Duplicados en 'Name':\",db[\"Name\"].duplicated().sum()/db.shape[0]*100,\"%\")"
   ],
   "metadata": {
    "collapsed": false
   }
  },
  {
   "cell_type": "code",
   "execution_count": 41,
   "outputs": [],
   "source": [
    "# Poner columna name como indice\n",
    "db.set_index(\"Name\",inplace=True)"
   ],
   "metadata": {
    "collapsed": false
   }
  },
  {
   "cell_type": "code",
   "execution_count": 42,
   "metadata": {},
   "outputs": [
    {
     "name": "stdout",
     "output_type": "stream",
     "text": [
      "Survived : 0.0 %\n",
      "Pclass : 0.0 %\n",
      "Sex : 0.0 %\n",
      "Age : 19.865319865319865 %\n",
      "SibSp : 0.0 %\n",
      "Parch : 0.0 %\n",
      "Ticket : 0.0 %\n",
      "Fare : 0.0 %\n",
      "Cabin : 77.10437710437711 %\n",
      "Embarked : 0.22446689113355783 %\n"
     ]
    }
   ],
   "source": [
    "# Mirar % de datos nulos por columna\n",
    "for col in db.columns:\n",
    "    print(col,\":\",db[col].isna().sum()/db.shape[0]*100,\"%\")"
   ]
  },
  {
   "cell_type": "code",
   "execution_count": 43,
   "metadata": {},
   "outputs": [
    {
     "name": "stdout",
     "output_type": "stream",
     "text": [
      "No nulos con 'Pclass' = 1: 86.27450980392157 %\n"
     ]
    }
   ],
   "source": [
    "# Cabina no nula y Pclass = 1\n",
    "print(\"No nulos con 'Pclass' = 1:\",db[(db[\"Cabin\"].notnull()) & (db[\"Pclass\"]==1)].shape[0]/db[db[\"Cabin\"].notnull()].shape[0] * 100,\"%\")\n",
    "\n",
    "# Eliminamos la columna Cabin\n",
    "db.drop(\"Cabin\",axis=1,inplace=True)"
   ]
  },
  {
   "cell_type": "code",
   "execution_count": 44,
   "metadata": {},
   "outputs": [
    {
     "data": {
      "text/plain": "                                          Survived  Pclass     Sex  Age  \\\nName                                                                      \nMoran, Mr. James                                 0       3    male  NaN   \nWilliams, Mr. Charles Eugene                     1       2    male  NaN   \nMasselmani, Mrs. Fatima                          1       3  female  NaN   \nEmir, Mr. Farred Chehab                          0       3    male  NaN   \nO'Dwyer, Miss. Ellen \"Nellie\"                    1       3  female  NaN   \n...                                            ...     ...     ...  ...   \nRazi, Mr. Raihed                                 0       3    male  NaN   \nSage, Miss. Dorothy Edith \"Dolly\"                0       3  female  NaN   \nvan Melkebeke, Mr. Philemon                      0       3    male  NaN   \nLaleff, Mr. Kristo                               0       3    male  NaN   \nJohnston, Miss. Catherine Helen \"Carrie\"         0       3  female  NaN   \n\n                                          SibSp  Parch      Ticket     Fare  \\\nName                                                                          \nMoran, Mr. James                              0      0      330877   8.4583   \nWilliams, Mr. Charles Eugene                  0      0      244373  13.0000   \nMasselmani, Mrs. Fatima                       0      0        2649   7.2250   \nEmir, Mr. Farred Chehab                       0      0        2631   7.2250   \nO'Dwyer, Miss. Ellen \"Nellie\"                 0      0      330959   7.8792   \n...                                         ...    ...         ...      ...   \nRazi, Mr. Raihed                              0      0        2629   7.2292   \nSage, Miss. Dorothy Edith \"Dolly\"             8      2    CA. 2343  69.5500   \nvan Melkebeke, Mr. Philemon                   0      0      345777   9.5000   \nLaleff, Mr. Kristo                            0      0      349217   7.8958   \nJohnston, Miss. Catherine Helen \"Carrie\"      1      2  W./C. 6607  23.4500   \n\n                                         Embarked  \nName                                               \nMoran, Mr. James                                Q  \nWilliams, Mr. Charles Eugene                    S  \nMasselmani, Mrs. Fatima                         C  \nEmir, Mr. Farred Chehab                         C  \nO'Dwyer, Miss. Ellen \"Nellie\"                   Q  \n...                                           ...  \nRazi, Mr. Raihed                                C  \nSage, Miss. Dorothy Edith \"Dolly\"               S  \nvan Melkebeke, Mr. Philemon                     S  \nLaleff, Mr. Kristo                              S  \nJohnston, Miss. Catherine Helen \"Carrie\"        S  \n\n[177 rows x 9 columns]",
      "text/html": "<div>\n<style scoped>\n    .dataframe tbody tr th:only-of-type {\n        vertical-align: middle;\n    }\n\n    .dataframe tbody tr th {\n        vertical-align: top;\n    }\n\n    .dataframe thead th {\n        text-align: right;\n    }\n</style>\n<table border=\"1\" class=\"dataframe\">\n  <thead>\n    <tr style=\"text-align: right;\">\n      <th></th>\n      <th>Survived</th>\n      <th>Pclass</th>\n      <th>Sex</th>\n      <th>Age</th>\n      <th>SibSp</th>\n      <th>Parch</th>\n      <th>Ticket</th>\n      <th>Fare</th>\n      <th>Embarked</th>\n    </tr>\n    <tr>\n      <th>Name</th>\n      <th></th>\n      <th></th>\n      <th></th>\n      <th></th>\n      <th></th>\n      <th></th>\n      <th></th>\n      <th></th>\n      <th></th>\n    </tr>\n  </thead>\n  <tbody>\n    <tr>\n      <th>Moran, Mr. James</th>\n      <td>0</td>\n      <td>3</td>\n      <td>male</td>\n      <td>NaN</td>\n      <td>0</td>\n      <td>0</td>\n      <td>330877</td>\n      <td>8.4583</td>\n      <td>Q</td>\n    </tr>\n    <tr>\n      <th>Williams, Mr. Charles Eugene</th>\n      <td>1</td>\n      <td>2</td>\n      <td>male</td>\n      <td>NaN</td>\n      <td>0</td>\n      <td>0</td>\n      <td>244373</td>\n      <td>13.0000</td>\n      <td>S</td>\n    </tr>\n    <tr>\n      <th>Masselmani, Mrs. Fatima</th>\n      <td>1</td>\n      <td>3</td>\n      <td>female</td>\n      <td>NaN</td>\n      <td>0</td>\n      <td>0</td>\n      <td>2649</td>\n      <td>7.2250</td>\n      <td>C</td>\n    </tr>\n    <tr>\n      <th>Emir, Mr. Farred Chehab</th>\n      <td>0</td>\n      <td>3</td>\n      <td>male</td>\n      <td>NaN</td>\n      <td>0</td>\n      <td>0</td>\n      <td>2631</td>\n      <td>7.2250</td>\n      <td>C</td>\n    </tr>\n    <tr>\n      <th>O'Dwyer, Miss. Ellen \"Nellie\"</th>\n      <td>1</td>\n      <td>3</td>\n      <td>female</td>\n      <td>NaN</td>\n      <td>0</td>\n      <td>0</td>\n      <td>330959</td>\n      <td>7.8792</td>\n      <td>Q</td>\n    </tr>\n    <tr>\n      <th>...</th>\n      <td>...</td>\n      <td>...</td>\n      <td>...</td>\n      <td>...</td>\n      <td>...</td>\n      <td>...</td>\n      <td>...</td>\n      <td>...</td>\n      <td>...</td>\n    </tr>\n    <tr>\n      <th>Razi, Mr. Raihed</th>\n      <td>0</td>\n      <td>3</td>\n      <td>male</td>\n      <td>NaN</td>\n      <td>0</td>\n      <td>0</td>\n      <td>2629</td>\n      <td>7.2292</td>\n      <td>C</td>\n    </tr>\n    <tr>\n      <th>Sage, Miss. Dorothy Edith \"Dolly\"</th>\n      <td>0</td>\n      <td>3</td>\n      <td>female</td>\n      <td>NaN</td>\n      <td>8</td>\n      <td>2</td>\n      <td>CA. 2343</td>\n      <td>69.5500</td>\n      <td>S</td>\n    </tr>\n    <tr>\n      <th>van Melkebeke, Mr. Philemon</th>\n      <td>0</td>\n      <td>3</td>\n      <td>male</td>\n      <td>NaN</td>\n      <td>0</td>\n      <td>0</td>\n      <td>345777</td>\n      <td>9.5000</td>\n      <td>S</td>\n    </tr>\n    <tr>\n      <th>Laleff, Mr. Kristo</th>\n      <td>0</td>\n      <td>3</td>\n      <td>male</td>\n      <td>NaN</td>\n      <td>0</td>\n      <td>0</td>\n      <td>349217</td>\n      <td>7.8958</td>\n      <td>S</td>\n    </tr>\n    <tr>\n      <th>Johnston, Miss. Catherine Helen \"Carrie\"</th>\n      <td>0</td>\n      <td>3</td>\n      <td>female</td>\n      <td>NaN</td>\n      <td>1</td>\n      <td>2</td>\n      <td>W./C. 6607</td>\n      <td>23.4500</td>\n      <td>S</td>\n    </tr>\n  </tbody>\n</table>\n<p>177 rows × 9 columns</p>\n</div>"
     },
     "execution_count": 44,
     "metadata": {},
     "output_type": "execute_result"
    }
   ],
   "source": [
    "# tabla donde la edad es nula\n",
    "db[db[\"Age\"].isna()]\n"
   ]
  },
  {
   "cell_type": "code",
   "execution_count": 45,
   "metadata": {},
   "outputs": [
    {
     "data": {
      "text/plain": "                                           Survived  Pclass     Sex   Age  \\\nName                                                                        \nIcard, Miss. Amelie                               1       1  female  38.0   \nStone, Mrs. George Nelson (Martha Evelyn)         1       1  female  62.0   \n\n                                           SibSp  Parch  Ticket  Fare Embarked  \nName                                                                            \nIcard, Miss. Amelie                            0      0  113572  80.0      NaN  \nStone, Mrs. George Nelson (Martha Evelyn)      0      0  113572  80.0      NaN  ",
      "text/html": "<div>\n<style scoped>\n    .dataframe tbody tr th:only-of-type {\n        vertical-align: middle;\n    }\n\n    .dataframe tbody tr th {\n        vertical-align: top;\n    }\n\n    .dataframe thead th {\n        text-align: right;\n    }\n</style>\n<table border=\"1\" class=\"dataframe\">\n  <thead>\n    <tr style=\"text-align: right;\">\n      <th></th>\n      <th>Survived</th>\n      <th>Pclass</th>\n      <th>Sex</th>\n      <th>Age</th>\n      <th>SibSp</th>\n      <th>Parch</th>\n      <th>Ticket</th>\n      <th>Fare</th>\n      <th>Embarked</th>\n    </tr>\n    <tr>\n      <th>Name</th>\n      <th></th>\n      <th></th>\n      <th></th>\n      <th></th>\n      <th></th>\n      <th></th>\n      <th></th>\n      <th></th>\n      <th></th>\n    </tr>\n  </thead>\n  <tbody>\n    <tr>\n      <th>Icard, Miss. Amelie</th>\n      <td>1</td>\n      <td>1</td>\n      <td>female</td>\n      <td>38.0</td>\n      <td>0</td>\n      <td>0</td>\n      <td>113572</td>\n      <td>80.0</td>\n      <td>NaN</td>\n    </tr>\n    <tr>\n      <th>Stone, Mrs. George Nelson (Martha Evelyn)</th>\n      <td>1</td>\n      <td>1</td>\n      <td>female</td>\n      <td>62.0</td>\n      <td>0</td>\n      <td>0</td>\n      <td>113572</td>\n      <td>80.0</td>\n      <td>NaN</td>\n    </tr>\n  </tbody>\n</table>\n</div>"
     },
     "execution_count": 45,
     "metadata": {},
     "output_type": "execute_result"
    }
   ],
   "source": [
    "# Imprimimos las filas de Embarked que tienen valores nulos\n",
    "db[db[\"Embarked\"].isna()]"
   ]
  },
  {
   "attachments": {},
   "cell_type": "markdown",
   "metadata": {},
   "source": [
    "https://www.encyclopedia-titanica.org/titanic-survivor/amelia-icard.html\n",
    "\n",
    "https://www.encyclopedia-titanica.org/titanic-survivor/martha-evelyn-stone.html\n",
    "\n",
    "Criada de, por ello el mismo ticket. Al ser supervivientes hay fácil acceso a información."
   ]
  },
  {
   "cell_type": "code",
   "execution_count": 46,
   "metadata": {},
   "outputs": [],
   "source": [
    "#Rellanamos los valores nulos de Embarked con S de Southampton\n",
    "db[\"Embarked\"].fillna(\"S\",inplace=True)"
   ]
  },
  {
   "cell_type": "code",
   "execution_count": 47,
   "metadata": {},
   "outputs": [
    {
     "name": "stdout",
     "output_type": "stream",
     "text": [
      "Survived : 0.0 %\n",
      "Pclass : 0.0 %\n",
      "Sex : 0.0 %\n",
      "Age : 19.865319865319865 %\n",
      "SibSp : 0.0 %\n",
      "Parch : 0.0 %\n",
      "Ticket : 0.0 %\n",
      "Fare : 0.0 %\n",
      "Embarked : 0.0 %\n"
     ]
    }
   ],
   "source": [
    "# Mirar % de datos nulos por columna\n",
    "for col in db.columns:\n",
    "    print(col,\":\",db[col].isnull().sum()/db.shape[0]*100,\"%\")"
   ]
  },
  {
   "cell_type": "code",
   "execution_count": 48,
   "metadata": {},
   "outputs": [
    {
     "name": "stdout",
     "output_type": "stream",
     "text": [
      "Duplicados en 'Ticket': 23.56902356902357 %\n"
     ]
    }
   ],
   "source": [
    "# Calculamos % de duplicados en ticket\n",
    "print(\"Duplicados en 'Ticket':\",db[\"Ticket\"].duplicated().sum()/db.shape[0]*100,\"%\")"
   ]
  },
  {
   "cell_type": "code",
   "execution_count": 49,
   "metadata": {},
   "outputs": [
    {
     "data": {
      "text/plain": "                                   Survived  Pclass     Sex  Age  SibSp  \\\nName                                                                      \nSage, Master. Thomas Henry                0       3    male  NaN      8   \nSage, Miss. Constance Gladys              0       3  female  NaN      8   \nSage, Mr. Frederick                       0       3    male  NaN      8   \nSage, Mr. George John Jr                  0       3    male  NaN      8   \nSage, Miss. Stella Anna                   0       3  female  NaN      8   \nSage, Mr. Douglas Bullen                  0       3    male  NaN      8   \nSage, Miss. Dorothy Edith \"Dolly\"         0       3  female  NaN      8   \n\n                                   Parch    Ticket   Fare Embarked  \nName                                                                \nSage, Master. Thomas Henry             2  CA. 2343  69.55        S  \nSage, Miss. Constance Gladys           2  CA. 2343  69.55        S  \nSage, Mr. Frederick                    2  CA. 2343  69.55        S  \nSage, Mr. George John Jr               2  CA. 2343  69.55        S  \nSage, Miss. Stella Anna                2  CA. 2343  69.55        S  \nSage, Mr. Douglas Bullen               2  CA. 2343  69.55        S  \nSage, Miss. Dorothy Edith \"Dolly\"      2  CA. 2343  69.55        S  ",
      "text/html": "<div>\n<style scoped>\n    .dataframe tbody tr th:only-of-type {\n        vertical-align: middle;\n    }\n\n    .dataframe tbody tr th {\n        vertical-align: top;\n    }\n\n    .dataframe thead th {\n        text-align: right;\n    }\n</style>\n<table border=\"1\" class=\"dataframe\">\n  <thead>\n    <tr style=\"text-align: right;\">\n      <th></th>\n      <th>Survived</th>\n      <th>Pclass</th>\n      <th>Sex</th>\n      <th>Age</th>\n      <th>SibSp</th>\n      <th>Parch</th>\n      <th>Ticket</th>\n      <th>Fare</th>\n      <th>Embarked</th>\n    </tr>\n    <tr>\n      <th>Name</th>\n      <th></th>\n      <th></th>\n      <th></th>\n      <th></th>\n      <th></th>\n      <th></th>\n      <th></th>\n      <th></th>\n      <th></th>\n    </tr>\n  </thead>\n  <tbody>\n    <tr>\n      <th>Sage, Master. Thomas Henry</th>\n      <td>0</td>\n      <td>3</td>\n      <td>male</td>\n      <td>NaN</td>\n      <td>8</td>\n      <td>2</td>\n      <td>CA. 2343</td>\n      <td>69.55</td>\n      <td>S</td>\n    </tr>\n    <tr>\n      <th>Sage, Miss. Constance Gladys</th>\n      <td>0</td>\n      <td>3</td>\n      <td>female</td>\n      <td>NaN</td>\n      <td>8</td>\n      <td>2</td>\n      <td>CA. 2343</td>\n      <td>69.55</td>\n      <td>S</td>\n    </tr>\n    <tr>\n      <th>Sage, Mr. Frederick</th>\n      <td>0</td>\n      <td>3</td>\n      <td>male</td>\n      <td>NaN</td>\n      <td>8</td>\n      <td>2</td>\n      <td>CA. 2343</td>\n      <td>69.55</td>\n      <td>S</td>\n    </tr>\n    <tr>\n      <th>Sage, Mr. George John Jr</th>\n      <td>0</td>\n      <td>3</td>\n      <td>male</td>\n      <td>NaN</td>\n      <td>8</td>\n      <td>2</td>\n      <td>CA. 2343</td>\n      <td>69.55</td>\n      <td>S</td>\n    </tr>\n    <tr>\n      <th>Sage, Miss. Stella Anna</th>\n      <td>0</td>\n      <td>3</td>\n      <td>female</td>\n      <td>NaN</td>\n      <td>8</td>\n      <td>2</td>\n      <td>CA. 2343</td>\n      <td>69.55</td>\n      <td>S</td>\n    </tr>\n    <tr>\n      <th>Sage, Mr. Douglas Bullen</th>\n      <td>0</td>\n      <td>3</td>\n      <td>male</td>\n      <td>NaN</td>\n      <td>8</td>\n      <td>2</td>\n      <td>CA. 2343</td>\n      <td>69.55</td>\n      <td>S</td>\n    </tr>\n    <tr>\n      <th>Sage, Miss. Dorothy Edith \"Dolly\"</th>\n      <td>0</td>\n      <td>3</td>\n      <td>female</td>\n      <td>NaN</td>\n      <td>8</td>\n      <td>2</td>\n      <td>CA. 2343</td>\n      <td>69.55</td>\n      <td>S</td>\n    </tr>\n  </tbody>\n</table>\n</div>"
     },
     "execution_count": 49,
     "metadata": {},
     "output_type": "execute_result"
    }
   ],
   "source": [
    "# Mostrar filas con la columna de ticket igual\n",
    "db[db[\"Ticket\"]==\"CA. 2343\"]\n"
   ]
  },
  {
   "cell_type": "code",
   "execution_count": 50,
   "metadata": {},
   "outputs": [
    {
     "data": {
      "text/plain": "                                                    Survived  Pclass     Sex  \\\nName                                                                           \nAndersson, Mr. Anders Johan                                0       3    male   \nAndersson, Miss. Ellis Anna Maria                          0       3  female   \nAndersson, Miss. Ingeborg Constanzia                       0       3  female   \nAndersson, Miss. Sigrid Elisabeth                          0       3  female   \nAndersson, Mrs. Anders Johan (Alfrida Konstanti...         0       3  female   \nAndersson, Miss. Ebba Iris Alfrida                         0       3  female   \nAndersson, Master. Sigvard Harald Elias                    0       3    male   \n\n                                                     Age  SibSp  Parch  \\\nName                                                                     \nAndersson, Mr. Anders Johan                         39.0      1      5   \nAndersson, Miss. Ellis Anna Maria                    2.0      4      2   \nAndersson, Miss. Ingeborg Constanzia                 9.0      4      2   \nAndersson, Miss. Sigrid Elisabeth                   11.0      4      2   \nAndersson, Mrs. Anders Johan (Alfrida Konstanti...  39.0      1      5   \nAndersson, Miss. Ebba Iris Alfrida                   6.0      4      2   \nAndersson, Master. Sigvard Harald Elias              4.0      4      2   \n\n                                                    Ticket    Fare Embarked  \nName                                                                         \nAndersson, Mr. Anders Johan                         347082  31.275        S  \nAndersson, Miss. Ellis Anna Maria                   347082  31.275        S  \nAndersson, Miss. Ingeborg Constanzia                347082  31.275        S  \nAndersson, Miss. Sigrid Elisabeth                   347082  31.275        S  \nAndersson, Mrs. Anders Johan (Alfrida Konstanti...  347082  31.275        S  \nAndersson, Miss. Ebba Iris Alfrida                  347082  31.275        S  \nAndersson, Master. Sigvard Harald Elias             347082  31.275        S  ",
      "text/html": "<div>\n<style scoped>\n    .dataframe tbody tr th:only-of-type {\n        vertical-align: middle;\n    }\n\n    .dataframe tbody tr th {\n        vertical-align: top;\n    }\n\n    .dataframe thead th {\n        text-align: right;\n    }\n</style>\n<table border=\"1\" class=\"dataframe\">\n  <thead>\n    <tr style=\"text-align: right;\">\n      <th></th>\n      <th>Survived</th>\n      <th>Pclass</th>\n      <th>Sex</th>\n      <th>Age</th>\n      <th>SibSp</th>\n      <th>Parch</th>\n      <th>Ticket</th>\n      <th>Fare</th>\n      <th>Embarked</th>\n    </tr>\n    <tr>\n      <th>Name</th>\n      <th></th>\n      <th></th>\n      <th></th>\n      <th></th>\n      <th></th>\n      <th></th>\n      <th></th>\n      <th></th>\n      <th></th>\n    </tr>\n  </thead>\n  <tbody>\n    <tr>\n      <th>Andersson, Mr. Anders Johan</th>\n      <td>0</td>\n      <td>3</td>\n      <td>male</td>\n      <td>39.0</td>\n      <td>1</td>\n      <td>5</td>\n      <td>347082</td>\n      <td>31.275</td>\n      <td>S</td>\n    </tr>\n    <tr>\n      <th>Andersson, Miss. Ellis Anna Maria</th>\n      <td>0</td>\n      <td>3</td>\n      <td>female</td>\n      <td>2.0</td>\n      <td>4</td>\n      <td>2</td>\n      <td>347082</td>\n      <td>31.275</td>\n      <td>S</td>\n    </tr>\n    <tr>\n      <th>Andersson, Miss. Ingeborg Constanzia</th>\n      <td>0</td>\n      <td>3</td>\n      <td>female</td>\n      <td>9.0</td>\n      <td>4</td>\n      <td>2</td>\n      <td>347082</td>\n      <td>31.275</td>\n      <td>S</td>\n    </tr>\n    <tr>\n      <th>Andersson, Miss. Sigrid Elisabeth</th>\n      <td>0</td>\n      <td>3</td>\n      <td>female</td>\n      <td>11.0</td>\n      <td>4</td>\n      <td>2</td>\n      <td>347082</td>\n      <td>31.275</td>\n      <td>S</td>\n    </tr>\n    <tr>\n      <th>Andersson, Mrs. Anders Johan (Alfrida Konstantia Brogren)</th>\n      <td>0</td>\n      <td>3</td>\n      <td>female</td>\n      <td>39.0</td>\n      <td>1</td>\n      <td>5</td>\n      <td>347082</td>\n      <td>31.275</td>\n      <td>S</td>\n    </tr>\n    <tr>\n      <th>Andersson, Miss. Ebba Iris Alfrida</th>\n      <td>0</td>\n      <td>3</td>\n      <td>female</td>\n      <td>6.0</td>\n      <td>4</td>\n      <td>2</td>\n      <td>347082</td>\n      <td>31.275</td>\n      <td>S</td>\n    </tr>\n    <tr>\n      <th>Andersson, Master. Sigvard Harald Elias</th>\n      <td>0</td>\n      <td>3</td>\n      <td>male</td>\n      <td>4.0</td>\n      <td>4</td>\n      <td>2</td>\n      <td>347082</td>\n      <td>31.275</td>\n      <td>S</td>\n    </tr>\n  </tbody>\n</table>\n</div>"
     },
     "execution_count": 50,
     "metadata": {},
     "output_type": "execute_result"
    }
   ],
   "source": [
    "db[db[\"Ticket\"]==\"347082\"]"
   ]
  },
  {
   "cell_type": "code",
   "execution_count": 51,
   "outputs": [],
   "source": [
    "# Eliminar columna Ticket\n",
    "db.drop(\"Ticket\",axis=1,inplace=True)"
   ],
   "metadata": {
    "collapsed": false
   }
  },
  {
   "cell_type": "code",
   "execution_count": 52,
   "outputs": [
    {
     "data": {
      "text/plain": "                                                    Survived  Pclass  Sex  \\\nName                                                                        \nBraund, Mr. Owen Harris                                    0       3    0   \nCumings, Mrs. John Bradley (Florence Briggs Tha...         1       1    1   \nHeikkinen, Miss. Laina                                     1       3    1   \nFutrelle, Mrs. Jacques Heath (Lily May Peel)               1       1    1   \nAllen, Mr. William Henry                                   0       3    0   \n\n                                                     Age  SibSp  Parch  \\\nName                                                                     \nBraund, Mr. Owen Harris                             22.0      1      0   \nCumings, Mrs. John Bradley (Florence Briggs Tha...  38.0      1      0   \nHeikkinen, Miss. Laina                              26.0      0      0   \nFutrelle, Mrs. Jacques Heath (Lily May Peel)        35.0      1      0   \nAllen, Mr. William Henry                            35.0      0      0   \n\n                                                       Fare  Embarked  \nName                                                                   \nBraund, Mr. Owen Harris                              7.2500         0  \nCumings, Mrs. John Bradley (Florence Briggs Tha...  71.2833         1  \nHeikkinen, Miss. Laina                               7.9250         0  \nFutrelle, Mrs. Jacques Heath (Lily May Peel)        53.1000         0  \nAllen, Mr. William Henry                             8.0500         0  ",
      "text/html": "<div>\n<style scoped>\n    .dataframe tbody tr th:only-of-type {\n        vertical-align: middle;\n    }\n\n    .dataframe tbody tr th {\n        vertical-align: top;\n    }\n\n    .dataframe thead th {\n        text-align: right;\n    }\n</style>\n<table border=\"1\" class=\"dataframe\">\n  <thead>\n    <tr style=\"text-align: right;\">\n      <th></th>\n      <th>Survived</th>\n      <th>Pclass</th>\n      <th>Sex</th>\n      <th>Age</th>\n      <th>SibSp</th>\n      <th>Parch</th>\n      <th>Fare</th>\n      <th>Embarked</th>\n    </tr>\n    <tr>\n      <th>Name</th>\n      <th></th>\n      <th></th>\n      <th></th>\n      <th></th>\n      <th></th>\n      <th></th>\n      <th></th>\n      <th></th>\n    </tr>\n  </thead>\n  <tbody>\n    <tr>\n      <th>Braund, Mr. Owen Harris</th>\n      <td>0</td>\n      <td>3</td>\n      <td>0</td>\n      <td>22.0</td>\n      <td>1</td>\n      <td>0</td>\n      <td>7.2500</td>\n      <td>0</td>\n    </tr>\n    <tr>\n      <th>Cumings, Mrs. John Bradley (Florence Briggs Thayer)</th>\n      <td>1</td>\n      <td>1</td>\n      <td>1</td>\n      <td>38.0</td>\n      <td>1</td>\n      <td>0</td>\n      <td>71.2833</td>\n      <td>1</td>\n    </tr>\n    <tr>\n      <th>Heikkinen, Miss. Laina</th>\n      <td>1</td>\n      <td>3</td>\n      <td>1</td>\n      <td>26.0</td>\n      <td>0</td>\n      <td>0</td>\n      <td>7.9250</td>\n      <td>0</td>\n    </tr>\n    <tr>\n      <th>Futrelle, Mrs. Jacques Heath (Lily May Peel)</th>\n      <td>1</td>\n      <td>1</td>\n      <td>1</td>\n      <td>35.0</td>\n      <td>1</td>\n      <td>0</td>\n      <td>53.1000</td>\n      <td>0</td>\n    </tr>\n    <tr>\n      <th>Allen, Mr. William Henry</th>\n      <td>0</td>\n      <td>3</td>\n      <td>0</td>\n      <td>35.0</td>\n      <td>0</td>\n      <td>0</td>\n      <td>8.0500</td>\n      <td>0</td>\n    </tr>\n  </tbody>\n</table>\n</div>"
     },
     "execution_count": 52,
     "metadata": {},
     "output_type": "execute_result"
    }
   ],
   "source": [
    "# mapeamos las variables sex y embarked\n",
    "db[\"Embarked\"] = db[\"Embarked\"].map({\"S\": 0, \"C\": 1, \"Q\": 2})\n",
    "db[\"Sex\"] = db[\"Sex\"].map({\"male\": 0, \"female\": 1})\n",
    "\n",
    "db.head()"
   ],
   "metadata": {
    "collapsed": false
   }
  },
  {
   "cell_type": "code",
   "execution_count": 53,
   "outputs": [],
   "source": [
    "# Crear una instancia del imputador MICE\n",
    "mice_imputer = IterativeImputer(initial_strategy=\"mean\", estimator=LinearRegression())\n",
    "\n",
    "# Imputar los valores faltantes\n",
    "db = pd.DataFrame(mice_imputer.fit_transform(db), columns=db.columns,index=db.index)\n",
    "\n",
    "# Limitar los valores imputados al rango de 0 a 100\n",
    "db[\"Age\"] = np.clip(db[\"Age\"], 0, 100)\n",
    "\n",
    "# Convertir los valores imputados a enteros\n",
    "db[\"Age\"] = db[\"Age\"].astype(int)"
   ],
   "metadata": {
    "collapsed": false
   }
  },
  {
   "cell_type": "code",
   "execution_count": 54,
   "outputs": [
    {
     "name": "stdout",
     "output_type": "stream",
     "text": [
      "Survived : 0.0 %\n",
      "Pclass : 0.0 %\n",
      "Sex : 0.0 %\n",
      "Age : 0.0 %\n",
      "SibSp : 0.0 %\n",
      "Parch : 0.0 %\n",
      "Fare : 0.0 %\n",
      "Embarked : 0.0 %\n"
     ]
    }
   ],
   "source": [
    "# Mirar % de datos nulos por columna\n",
    "for col in db.columns:\n",
    "    print(col,\":\",db[col].isnull().sum()/db.shape[0]*100,\"%\")"
   ],
   "metadata": {
    "collapsed": false
   }
  }
 ],
 "metadata": {
  "kernelspec": {
   "display_name": "Python 3",
   "language": "python",
   "name": "python3"
  },
  "language_info": {
   "codemirror_mode": {
    "name": "ipython",
    "version": 3
   },
   "file_extension": ".py",
   "mimetype": "text/x-python",
   "name": "python",
   "nbconvert_exporter": "python",
   "pygments_lexer": "ipython3",
   "version": "3.10.2"
  }
 },
 "nbformat": 4,
 "nbformat_minor": 0
}
