{
 "cells": [
  {
   "cell_type": "markdown",
   "source": [
    "## Importación librerías"
   ],
   "metadata": {
    "collapsed": false
   }
  },
  {
   "cell_type": "code",
   "execution_count": 1,
   "metadata": {
    "collapsed": true,
    "ExecuteTime": {
     "start_time": "2023-04-20T15:28:00.671408Z",
     "end_time": "2023-04-20T15:28:02.661015Z"
    }
   },
   "outputs": [],
   "source": [
    "import pandas as pd\n",
    "import numpy as np\n",
    "from sklearn.experimental import enable_iterative_imputer\n",
    "from sklearn.impute import IterativeImputer\n",
    "from sklearn.linear_model import LinearRegression"
   ]
  },
  {
   "cell_type": "markdown",
   "metadata": {
    "collapsed": false
   },
   "source": [
    "## Cargar Dataset y visualizar las primeras 5 filas"
   ]
  },
  {
   "cell_type": "code",
   "execution_count": 2,
   "metadata": {
    "collapsed": false,
    "ExecuteTime": {
     "start_time": "2023-04-20T15:28:02.669495Z",
     "end_time": "2023-04-20T15:28:02.721973Z"
    }
   },
   "outputs": [
    {
     "name": "stdout",
     "output_type": "stream",
     "text": [
      "Dimensionalidad: (891, 12)\n"
     ]
    },
    {
     "data": {
      "text/plain": "   PassengerId  Survived  Pclass  \\\n0            1         0       3   \n1            2         1       1   \n2            3         1       3   \n3            4         1       1   \n4            5         0       3   \n\n                                                Name     Sex   Age  SibSp  \\\n0                            Braund, Mr. Owen Harris    male  22.0      1   \n1  Cumings, Mrs. John Bradley (Florence Briggs Th...  female  38.0      1   \n2                             Heikkinen, Miss. Laina  female  26.0      0   \n3       Futrelle, Mrs. Jacques Heath (Lily May Peel)  female  35.0      1   \n4                           Allen, Mr. William Henry    male  35.0      0   \n\n   Parch            Ticket     Fare Cabin Embarked  \n0      0         A/5 21171   7.2500   NaN        S  \n1      0          PC 17599  71.2833   C85        C  \n2      0  STON/O2. 3101282   7.9250   NaN        S  \n3      0            113803  53.1000  C123        S  \n4      0            373450   8.0500   NaN        S  ",
      "text/html": "<div>\n<style scoped>\n    .dataframe tbody tr th:only-of-type {\n        vertical-align: middle;\n    }\n\n    .dataframe tbody tr th {\n        vertical-align: top;\n    }\n\n    .dataframe thead th {\n        text-align: right;\n    }\n</style>\n<table border=\"1\" class=\"dataframe\">\n  <thead>\n    <tr style=\"text-align: right;\">\n      <th></th>\n      <th>PassengerId</th>\n      <th>Survived</th>\n      <th>Pclass</th>\n      <th>Name</th>\n      <th>Sex</th>\n      <th>Age</th>\n      <th>SibSp</th>\n      <th>Parch</th>\n      <th>Ticket</th>\n      <th>Fare</th>\n      <th>Cabin</th>\n      <th>Embarked</th>\n    </tr>\n  </thead>\n  <tbody>\n    <tr>\n      <th>0</th>\n      <td>1</td>\n      <td>0</td>\n      <td>3</td>\n      <td>Braund, Mr. Owen Harris</td>\n      <td>male</td>\n      <td>22.0</td>\n      <td>1</td>\n      <td>0</td>\n      <td>A/5 21171</td>\n      <td>7.2500</td>\n      <td>NaN</td>\n      <td>S</td>\n    </tr>\n    <tr>\n      <th>1</th>\n      <td>2</td>\n      <td>1</td>\n      <td>1</td>\n      <td>Cumings, Mrs. John Bradley (Florence Briggs Th...</td>\n      <td>female</td>\n      <td>38.0</td>\n      <td>1</td>\n      <td>0</td>\n      <td>PC 17599</td>\n      <td>71.2833</td>\n      <td>C85</td>\n      <td>C</td>\n    </tr>\n    <tr>\n      <th>2</th>\n      <td>3</td>\n      <td>1</td>\n      <td>3</td>\n      <td>Heikkinen, Miss. Laina</td>\n      <td>female</td>\n      <td>26.0</td>\n      <td>0</td>\n      <td>0</td>\n      <td>STON/O2. 3101282</td>\n      <td>7.9250</td>\n      <td>NaN</td>\n      <td>S</td>\n    </tr>\n    <tr>\n      <th>3</th>\n      <td>4</td>\n      <td>1</td>\n      <td>1</td>\n      <td>Futrelle, Mrs. Jacques Heath (Lily May Peel)</td>\n      <td>female</td>\n      <td>35.0</td>\n      <td>1</td>\n      <td>0</td>\n      <td>113803</td>\n      <td>53.1000</td>\n      <td>C123</td>\n      <td>S</td>\n    </tr>\n    <tr>\n      <th>4</th>\n      <td>5</td>\n      <td>0</td>\n      <td>3</td>\n      <td>Allen, Mr. William Henry</td>\n      <td>male</td>\n      <td>35.0</td>\n      <td>0</td>\n      <td>0</td>\n      <td>373450</td>\n      <td>8.0500</td>\n      <td>NaN</td>\n      <td>S</td>\n    </tr>\n  </tbody>\n</table>\n</div>"
     },
     "execution_count": 2,
     "metadata": {},
     "output_type": "execute_result"
    }
   ],
   "source": [
    "db = pd.read_csv(\"train.csv\")\n",
    "print(\"Dimensionalidad:\",db.shape)\n",
    "db.head()"
   ]
  },
  {
   "cell_type": "markdown",
   "metadata": {
    "collapsed": false
   },
   "source": [
    "## Tratamiento previo del Dataset\n",
    "### Tratamiento de variables que no aportan información\n",
    "Primero elimino la columna PassengerId ya que no aporta información relevante para el análisis (es un identificador único de cada pasajero).\n"
   ]
  },
  {
   "cell_type": "code",
   "execution_count": 3,
   "metadata": {
    "collapsed": false,
    "ExecuteTime": {
     "start_time": "2023-04-20T15:28:02.725136Z",
     "end_time": "2023-04-20T15:28:02.769632Z"
    }
   },
   "outputs": [],
   "source": [
    "# Eliminar columna PassengerId\n",
    "db.drop(\"PassengerId\",axis=1,inplace=True)"
   ]
  },
  {
   "cell_type": "markdown",
   "source": [
    "Usaré de índice de la tabla la columna Name, ya que es un identificador de cada pasajero, pero a diferencia de \"PassengerId\", nos puede aportar información entre pasajeros. Para usar la columna como índice, primero vamos a comprobar si hay duplicados en la columna \"Name\", para que no haya filas con el mismo índice index.\n",
    "\n",
    "En el caso de que no haya duplicados, usaremos la columna como índice del DataFrame."
   ],
   "metadata": {
    "collapsed": false
   }
  },
  {
   "cell_type": "code",
   "execution_count": 4,
   "outputs": [
    {
     "name": "stdout",
     "output_type": "stream",
     "text": [
      "Duplicados en 'Name': 0.0 %\n"
     ]
    }
   ],
   "source": [
    "# Calcular % de duplicados en Name\n",
    "print(\"Duplicados en 'Name':\",db[\"Name\"].duplicated().sum()/db.shape[0]*100,\"%\")"
   ],
   "metadata": {
    "collapsed": false,
    "ExecuteTime": {
     "start_time": "2023-04-20T15:28:02.740718Z",
     "end_time": "2023-04-20T15:28:02.845703Z"
    }
   }
  },
  {
   "cell_type": "code",
   "execution_count": 5,
   "outputs": [],
   "source": [
    "# Utilizar columna Name como índice\n",
    "db.set_index(\"Name\",inplace=True)"
   ],
   "metadata": {
    "collapsed": false,
    "ExecuteTime": {
     "start_time": "2023-04-20T15:28:02.767079Z",
     "end_time": "2023-04-20T15:28:02.890756Z"
    }
   }
  },
  {
   "cell_type": "markdown",
   "source": [
    "### Tratamiento de valores nulos\n",
    "\n",
    "\n"
   ],
   "metadata": {
    "collapsed": false
   }
  },
  {
   "cell_type": "code",
   "execution_count": 6,
   "metadata": {
    "ExecuteTime": {
     "start_time": "2023-04-20T15:28:02.789332Z",
     "end_time": "2023-04-20T15:28:03.004985Z"
    }
   },
   "outputs": [
    {
     "name": "stdout",
     "output_type": "stream",
     "text": [
      "Survived : 0.0 %\n",
      "Pclass : 0.0 %\n",
      "Sex : 0.0 %\n",
      "Age : 19.865319865319865 %\n",
      "SibSp : 0.0 %\n",
      "Parch : 0.0 %\n",
      "Ticket : 0.0 %\n",
      "Fare : 0.0 %\n",
      "Cabin : 77.10437710437711 %\n",
      "Embarked : 0.22446689113355783 %\n"
     ]
    }
   ],
   "source": [
    "# Calcular % de datos nulos por columna\n",
    "for col in db.columns:\n",
    "    print(col,\":\",db[col].isna().sum()/db.shape[0]*100,\"%\")"
   ]
  },
  {
   "cell_type": "markdown",
   "source": [
    "#### Tratamiento de valores nulos en la columna \"Cabin\"\n",
    "\n",
    "Primeramente la columna Cabin, que tiene un 77% de valores nulos. Esta columna la eliminaré porque más de 3/4 del dataset tienen esta columna incompleta."
   ],
   "metadata": {
    "collapsed": false
   }
  },
  {
   "cell_type": "code",
   "execution_count": 7,
   "outputs": [],
   "source": [
    "# Eliminar columna Cabin\n",
    "db.drop(\"Cabin\",axis=1,inplace=True)"
   ],
   "metadata": {
    "collapsed": false,
    "ExecuteTime": {
     "start_time": "2023-04-20T15:28:02.805254Z",
     "end_time": "2023-04-20T15:28:03.005558Z"
    }
   }
  },
  {
   "cell_type": "markdown",
   "source": [
    "#### Tratamiento de valores nulos en la columna \"Age\"\n",
    "Para la columna \"Age\" tenemos un 19% de valores nulos, por lo que rellenaré estos valores con algún método.\n",
    "\n",
    "El método que voy a usar es el de imputación iterativa MICE (Multiple Imputation by Chained Equations). Este método imputa valores a partir de los valores de otras columnas.\n",
    "\n",
    "Dejaremos este paso para el final ya que tendremos que tener un dataset limpio y de únicamente variables numéricas para poder aplicar este método"
   ],
   "metadata": {
    "collapsed": false
   }
  },
  {
   "cell_type": "markdown",
   "source": [
    "#### Tratar valores nulos en la columna \"Embarked\"\n",
    "Al ver que el % de la columna \"Embarked\" es muy bajo, voy a imprimir los caso aislados para ver como puedo tratar estos elementos nulos."
   ],
   "metadata": {
    "collapsed": false
   }
  },
  {
   "cell_type": "code",
   "execution_count": 8,
   "outputs": [
    {
     "data": {
      "text/plain": "                                           Survived  Pclass     Sex   Age  \\\nName                                                                        \nIcard, Miss. Amelie                               1       1  female  38.0   \nStone, Mrs. George Nelson (Martha Evelyn)         1       1  female  62.0   \n\n                                           SibSp  Parch  Ticket  Fare Embarked  \nName                                                                            \nIcard, Miss. Amelie                            0      0  113572  80.0      NaN  \nStone, Mrs. George Nelson (Martha Evelyn)      0      0  113572  80.0      NaN  ",
      "text/html": "<div>\n<style scoped>\n    .dataframe tbody tr th:only-of-type {\n        vertical-align: middle;\n    }\n\n    .dataframe tbody tr th {\n        vertical-align: top;\n    }\n\n    .dataframe thead th {\n        text-align: right;\n    }\n</style>\n<table border=\"1\" class=\"dataframe\">\n  <thead>\n    <tr style=\"text-align: right;\">\n      <th></th>\n      <th>Survived</th>\n      <th>Pclass</th>\n      <th>Sex</th>\n      <th>Age</th>\n      <th>SibSp</th>\n      <th>Parch</th>\n      <th>Ticket</th>\n      <th>Fare</th>\n      <th>Embarked</th>\n    </tr>\n    <tr>\n      <th>Name</th>\n      <th></th>\n      <th></th>\n      <th></th>\n      <th></th>\n      <th></th>\n      <th></th>\n      <th></th>\n      <th></th>\n      <th></th>\n    </tr>\n  </thead>\n  <tbody>\n    <tr>\n      <th>Icard, Miss. Amelie</th>\n      <td>1</td>\n      <td>1</td>\n      <td>female</td>\n      <td>38.0</td>\n      <td>0</td>\n      <td>0</td>\n      <td>113572</td>\n      <td>80.0</td>\n      <td>NaN</td>\n    </tr>\n    <tr>\n      <th>Stone, Mrs. George Nelson (Martha Evelyn)</th>\n      <td>1</td>\n      <td>1</td>\n      <td>female</td>\n      <td>62.0</td>\n      <td>0</td>\n      <td>0</td>\n      <td>113572</td>\n      <td>80.0</td>\n      <td>NaN</td>\n    </tr>\n  </tbody>\n</table>\n</div>"
     },
     "execution_count": 8,
     "metadata": {},
     "output_type": "execute_result"
    }
   ],
   "source": [
    "# Imprimir casos nulos de Embarked\n",
    "db[db[\"Embarked\"].isna()]"
   ],
   "metadata": {
    "collapsed": false,
    "ExecuteTime": {
     "start_time": "2023-04-20T15:28:02.819377Z",
     "end_time": "2023-04-20T15:28:03.038521Z"
    }
   }
  },
  {
   "attachments": {},
   "cell_type": "markdown",
   "metadata": {},
   "source": [
    "Al ser dos casos aislados, decidí buscar información sobre estos pasajeros del Titanic para ver si podía rellenar los valores. Encontré las siguientes fuentes:\n",
    "\n",
    "[Icard, Miss. Amelie](https://www.encyclopedia-titanica.org/titanic-survivor/amelia-icard.html)\n",
    "\n",
    "[Stone, Mrs. George Nelson (Martha Evelyn)](https://www.encyclopedia-titanica.org/titanic-survivor/martha-evelyn-stone.html)\n",
    "\n",
    "En este caso las dos mujeres embarcarón en Southampton, por lo que rellenaré los valores nulos de la columna \"Embarked\" con \"S\".\n",
    "\n",
    "> **CURIOSIDAD:** Amelie Icard era la criada de Martha Evelyn por lo que tienen el mismo número de Ticket."
   ]
  },
  {
   "cell_type": "code",
   "execution_count": 9,
   "metadata": {
    "ExecuteTime": {
     "start_time": "2023-04-20T15:28:02.849697Z",
     "end_time": "2023-04-20T15:28:03.039051Z"
    }
   },
   "outputs": [],
   "source": [
    "#Rellanamos los valores nulos de Embarked con S de Southampton\n",
    "db[\"Embarked\"].fillna(\"S\",inplace=True)"
   ]
  },
  {
   "cell_type": "markdown",
   "source": [
    "### Tratamiento de variables duplicadas\n",
    "Comprobamos si hay duplicados en las columnas que no nos interese que haya (en este caso, la única columna es Ticket)."
   ],
   "metadata": {
    "collapsed": false
   }
  },
  {
   "cell_type": "code",
   "execution_count": 10,
   "metadata": {
    "ExecuteTime": {
     "start_time": "2023-04-20T15:28:02.873734Z",
     "end_time": "2023-04-20T15:28:03.039687Z"
    }
   },
   "outputs": [
    {
     "name": "stdout",
     "output_type": "stream",
     "text": [
      "Duplicados en 'Ticket': 23.56902356902357 %\n"
     ]
    }
   ],
   "source": [
    "# Calculamos % de duplicados en ticket\n",
    "print(\"Duplicados en 'Ticket':\",db[\"Ticket\"].duplicated().sum()/db.shape[0]*100,\"%\")"
   ]
  },
  {
   "cell_type": "markdown",
   "source": [
    "Hay un 24% de duplicados en la columna, pero al ver anteriormente el caso donde usaban el mismo Ticket diferentes personas, decidí eliminar la columna (en el caso anterior usaban el mismo Ticket una mujer y su criada).\n",
    "\n",
    "Ejemplo de Ticket duplicado (en este caso, la familia usaba un mismo Ticket):"
   ],
   "metadata": {
    "collapsed": false
   }
  },
  {
   "cell_type": "code",
   "execution_count": 11,
   "metadata": {
    "ExecuteTime": {
     "start_time": "2023-04-20T15:28:02.907385Z",
     "end_time": "2023-04-20T15:28:03.041708Z"
    }
   },
   "outputs": [
    {
     "data": {
      "text/plain": "                                   Survived  Pclass     Sex  Age  SibSp  \\\nName                                                                      \nSage, Master. Thomas Henry                0       3    male  NaN      8   \nSage, Miss. Constance Gladys              0       3  female  NaN      8   \nSage, Mr. Frederick                       0       3    male  NaN      8   \nSage, Mr. George John Jr                  0       3    male  NaN      8   \nSage, Miss. Stella Anna                   0       3  female  NaN      8   \nSage, Mr. Douglas Bullen                  0       3    male  NaN      8   \nSage, Miss. Dorothy Edith \"Dolly\"         0       3  female  NaN      8   \n\n                                   Parch    Ticket   Fare Embarked  \nName                                                                \nSage, Master. Thomas Henry             2  CA. 2343  69.55        S  \nSage, Miss. Constance Gladys           2  CA. 2343  69.55        S  \nSage, Mr. Frederick                    2  CA. 2343  69.55        S  \nSage, Mr. George John Jr               2  CA. 2343  69.55        S  \nSage, Miss. Stella Anna                2  CA. 2343  69.55        S  \nSage, Mr. Douglas Bullen               2  CA. 2343  69.55        S  \nSage, Miss. Dorothy Edith \"Dolly\"      2  CA. 2343  69.55        S  ",
      "text/html": "<div>\n<style scoped>\n    .dataframe tbody tr th:only-of-type {\n        vertical-align: middle;\n    }\n\n    .dataframe tbody tr th {\n        vertical-align: top;\n    }\n\n    .dataframe thead th {\n        text-align: right;\n    }\n</style>\n<table border=\"1\" class=\"dataframe\">\n  <thead>\n    <tr style=\"text-align: right;\">\n      <th></th>\n      <th>Survived</th>\n      <th>Pclass</th>\n      <th>Sex</th>\n      <th>Age</th>\n      <th>SibSp</th>\n      <th>Parch</th>\n      <th>Ticket</th>\n      <th>Fare</th>\n      <th>Embarked</th>\n    </tr>\n    <tr>\n      <th>Name</th>\n      <th></th>\n      <th></th>\n      <th></th>\n      <th></th>\n      <th></th>\n      <th></th>\n      <th></th>\n      <th></th>\n      <th></th>\n    </tr>\n  </thead>\n  <tbody>\n    <tr>\n      <th>Sage, Master. Thomas Henry</th>\n      <td>0</td>\n      <td>3</td>\n      <td>male</td>\n      <td>NaN</td>\n      <td>8</td>\n      <td>2</td>\n      <td>CA. 2343</td>\n      <td>69.55</td>\n      <td>S</td>\n    </tr>\n    <tr>\n      <th>Sage, Miss. Constance Gladys</th>\n      <td>0</td>\n      <td>3</td>\n      <td>female</td>\n      <td>NaN</td>\n      <td>8</td>\n      <td>2</td>\n      <td>CA. 2343</td>\n      <td>69.55</td>\n      <td>S</td>\n    </tr>\n    <tr>\n      <th>Sage, Mr. Frederick</th>\n      <td>0</td>\n      <td>3</td>\n      <td>male</td>\n      <td>NaN</td>\n      <td>8</td>\n      <td>2</td>\n      <td>CA. 2343</td>\n      <td>69.55</td>\n      <td>S</td>\n    </tr>\n    <tr>\n      <th>Sage, Mr. George John Jr</th>\n      <td>0</td>\n      <td>3</td>\n      <td>male</td>\n      <td>NaN</td>\n      <td>8</td>\n      <td>2</td>\n      <td>CA. 2343</td>\n      <td>69.55</td>\n      <td>S</td>\n    </tr>\n    <tr>\n      <th>Sage, Miss. Stella Anna</th>\n      <td>0</td>\n      <td>3</td>\n      <td>female</td>\n      <td>NaN</td>\n      <td>8</td>\n      <td>2</td>\n      <td>CA. 2343</td>\n      <td>69.55</td>\n      <td>S</td>\n    </tr>\n    <tr>\n      <th>Sage, Mr. Douglas Bullen</th>\n      <td>0</td>\n      <td>3</td>\n      <td>male</td>\n      <td>NaN</td>\n      <td>8</td>\n      <td>2</td>\n      <td>CA. 2343</td>\n      <td>69.55</td>\n      <td>S</td>\n    </tr>\n    <tr>\n      <th>Sage, Miss. Dorothy Edith \"Dolly\"</th>\n      <td>0</td>\n      <td>3</td>\n      <td>female</td>\n      <td>NaN</td>\n      <td>8</td>\n      <td>2</td>\n      <td>CA. 2343</td>\n      <td>69.55</td>\n      <td>S</td>\n    </tr>\n  </tbody>\n</table>\n</div>"
     },
     "execution_count": 11,
     "metadata": {},
     "output_type": "execute_result"
    }
   ],
   "source": [
    "# Mostrar filas ejemplo de Ticket duplicado\n",
    "db[db[\"Ticket\"]==\"CA. 2343\"]\n"
   ]
  },
  {
   "cell_type": "code",
   "execution_count": 12,
   "outputs": [],
   "source": [
    "# Eliminar columna Ticket\n",
    "db.drop(\"Ticket\",axis=1,inplace=True)"
   ],
   "metadata": {
    "collapsed": false,
    "ExecuteTime": {
     "start_time": "2023-04-20T15:28:02.928727Z",
     "end_time": "2023-04-20T15:28:03.042265Z"
    }
   }
  },
  {
   "cell_type": "markdown",
   "source": [
    "#### Tratamiento de valores nulos en la columna \"Age\"\n",
    "\n",
    "Primero habrá que pasar las columnas de categóricas a numéricas para poder aplicar el método MICE."
   ],
   "metadata": {
    "collapsed": false
   }
  },
  {
   "cell_type": "code",
   "execution_count": 13,
   "outputs": [
    {
     "data": {
      "text/plain": "                                                    Survived  Pclass  Sex  \\\nName                                                                        \nBraund, Mr. Owen Harris                                    0       3    0   \nCumings, Mrs. John Bradley (Florence Briggs Tha...         1       1    1   \nHeikkinen, Miss. Laina                                     1       3    1   \nFutrelle, Mrs. Jacques Heath (Lily May Peel)               1       1    1   \nAllen, Mr. William Henry                                   0       3    0   \n\n                                                     Age  SibSp  Parch  \\\nName                                                                     \nBraund, Mr. Owen Harris                             22.0      1      0   \nCumings, Mrs. John Bradley (Florence Briggs Tha...  38.0      1      0   \nHeikkinen, Miss. Laina                              26.0      0      0   \nFutrelle, Mrs. Jacques Heath (Lily May Peel)        35.0      1      0   \nAllen, Mr. William Henry                            35.0      0      0   \n\n                                                       Fare  Embarked  \nName                                                                   \nBraund, Mr. Owen Harris                              7.2500         0  \nCumings, Mrs. John Bradley (Florence Briggs Tha...  71.2833         1  \nHeikkinen, Miss. Laina                               7.9250         0  \nFutrelle, Mrs. Jacques Heath (Lily May Peel)        53.1000         0  \nAllen, Mr. William Henry                             8.0500         0  ",
      "text/html": "<div>\n<style scoped>\n    .dataframe tbody tr th:only-of-type {\n        vertical-align: middle;\n    }\n\n    .dataframe tbody tr th {\n        vertical-align: top;\n    }\n\n    .dataframe thead th {\n        text-align: right;\n    }\n</style>\n<table border=\"1\" class=\"dataframe\">\n  <thead>\n    <tr style=\"text-align: right;\">\n      <th></th>\n      <th>Survived</th>\n      <th>Pclass</th>\n      <th>Sex</th>\n      <th>Age</th>\n      <th>SibSp</th>\n      <th>Parch</th>\n      <th>Fare</th>\n      <th>Embarked</th>\n    </tr>\n    <tr>\n      <th>Name</th>\n      <th></th>\n      <th></th>\n      <th></th>\n      <th></th>\n      <th></th>\n      <th></th>\n      <th></th>\n      <th></th>\n    </tr>\n  </thead>\n  <tbody>\n    <tr>\n      <th>Braund, Mr. Owen Harris</th>\n      <td>0</td>\n      <td>3</td>\n      <td>0</td>\n      <td>22.0</td>\n      <td>1</td>\n      <td>0</td>\n      <td>7.2500</td>\n      <td>0</td>\n    </tr>\n    <tr>\n      <th>Cumings, Mrs. John Bradley (Florence Briggs Thayer)</th>\n      <td>1</td>\n      <td>1</td>\n      <td>1</td>\n      <td>38.0</td>\n      <td>1</td>\n      <td>0</td>\n      <td>71.2833</td>\n      <td>1</td>\n    </tr>\n    <tr>\n      <th>Heikkinen, Miss. Laina</th>\n      <td>1</td>\n      <td>3</td>\n      <td>1</td>\n      <td>26.0</td>\n      <td>0</td>\n      <td>0</td>\n      <td>7.9250</td>\n      <td>0</td>\n    </tr>\n    <tr>\n      <th>Futrelle, Mrs. Jacques Heath (Lily May Peel)</th>\n      <td>1</td>\n      <td>1</td>\n      <td>1</td>\n      <td>35.0</td>\n      <td>1</td>\n      <td>0</td>\n      <td>53.1000</td>\n      <td>0</td>\n    </tr>\n    <tr>\n      <th>Allen, Mr. William Henry</th>\n      <td>0</td>\n      <td>3</td>\n      <td>0</td>\n      <td>35.0</td>\n      <td>0</td>\n      <td>0</td>\n      <td>8.0500</td>\n      <td>0</td>\n    </tr>\n  </tbody>\n</table>\n</div>"
     },
     "execution_count": 13,
     "metadata": {},
     "output_type": "execute_result"
    }
   ],
   "source": [
    "# Mapear columnas Embarked y Sex\n",
    "db[\"Embarked\"] = db[\"Embarked\"].map({\"S\": 0, \"C\": 1, \"Q\": 2})\n",
    "db[\"Sex\"] = db[\"Sex\"].map({\"male\": 0, \"female\": 1})\n",
    "\n",
    "db.head()"
   ],
   "metadata": {
    "collapsed": false,
    "ExecuteTime": {
     "start_time": "2023-04-20T15:28:02.951186Z",
     "end_time": "2023-04-20T15:28:03.214297Z"
    }
   }
  },
  {
   "cell_type": "markdown",
   "source": [
    "##### Método MICE (en Python)\n",
    "Para el método MICE en Python usaremos la librería [sklearn.impute](https://scikit-learn.org/stable/modules/impute.html#iterative-imputer).\n",
    "\n",
    "Para entender un poco en que consiste este método por encima, me he informado en la siguiente [web](https://www.numpyninja.com/post/mice-algorithm-to-impute-missing-values-in-a-dataset)"
   ],
   "metadata": {
    "collapsed": false
   }
  },
  {
   "cell_type": "code",
   "execution_count": 14,
   "outputs": [],
   "source": [
    "# Crear una instancia del imputador MICE\n",
    "mice_imputer = IterativeImputer(initial_strategy=\"mean\", estimator=LinearRegression())\n",
    "\n",
    "# Imputar los valores faltantes\n",
    "db = pd.DataFrame(mice_imputer.fit_transform(db), columns=db.columns,index=db.index)\n",
    "\n",
    "'''\n",
    "Limitar los valores imputados al rango de 0 a 100, ya que me daba valores negativos en caso de no limitar el rango.\n",
    "'''\n",
    "db[\"Age\"] = np.clip(db[\"Age\"], 0, 100)\n",
    "\n",
    "# Convertir los valores imputados a enteros\n",
    "db[\"Age\"] = db[\"Age\"].astype(int)"
   ],
   "metadata": {
    "collapsed": false,
    "ExecuteTime": {
     "start_time": "2023-04-20T15:28:02.991529Z",
     "end_time": "2023-04-20T15:28:03.239609Z"
    }
   }
  },
  {
   "cell_type": "markdown",
   "source": [
    "Finalmente comprobamos que no hay mas valores nulos en el dataset y exportamos el dataset limpio a un csv."
   ],
   "metadata": {
    "collapsed": false
   }
  },
  {
   "cell_type": "code",
   "execution_count": 15,
   "outputs": [
    {
     "name": "stdout",
     "output_type": "stream",
     "text": [
      "Survived : 0.0 %\n",
      "Pclass : 0.0 %\n",
      "Sex : 0.0 %\n",
      "Age : 0.0 %\n",
      "SibSp : 0.0 %\n",
      "Parch : 0.0 %\n",
      "Fare : 0.0 %\n",
      "Embarked : 0.0 %\n"
     ]
    }
   ],
   "source": [
    "# Calcular % de datos nulos por columna\n",
    "for col in db.columns:\n",
    "    print(col,\":\",db[col].isnull().sum()/db.shape[0]*100,\"%\")\n",
    "\n",
    "# Exportar dataset limpio a csv\n",
    "db.to_csv(\"train_clean.csv\")"
   ],
   "metadata": {
    "collapsed": false,
    "ExecuteTime": {
     "start_time": "2023-04-20T15:28:03.171634Z",
     "end_time": "2023-04-20T15:28:03.287713Z"
    }
   }
  }
 ],
 "metadata": {
  "kernelspec": {
   "display_name": "Python 3",
   "language": "python",
   "name": "python3"
  },
  "language_info": {
   "codemirror_mode": {
    "name": "ipython",
    "version": 3
   },
   "file_extension": ".py",
   "mimetype": "text/x-python",
   "name": "python",
   "nbconvert_exporter": "python",
   "pygments_lexer": "ipython3",
   "version": "3.10.2"
  }
 },
 "nbformat": 4,
 "nbformat_minor": 0
}
